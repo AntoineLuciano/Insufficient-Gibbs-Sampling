import timeit

def function1():
    # Code for function 1

def function2():
    # Code for function 2

# Measure the execution time of function 1
time1 = timeit.timeit(function1, number=1000)

# Measure the execution time of function 2
time2 = timeit.timeit(function2, number=1000)

print("Execution time of function 1: ", time1)
print("Execution time of function 2: ", time2)