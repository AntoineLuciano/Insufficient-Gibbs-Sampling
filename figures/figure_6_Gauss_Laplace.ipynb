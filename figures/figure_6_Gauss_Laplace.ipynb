{
 "cells": [
  {
   "cell_type": "code",
   "execution_count": 1,
   "metadata": {},
   "outputs": [],
   "source": [
    "import numpy as np\n",
    "import matplotlib.pyplot as plt\n",
    "import pandas as pd\n",
    "import seaborn as sns\n",
    "from scipy.stats import *\n",
    "from tqdm import tqdm\n",
    "from InsufficientGibbs.Models import NormalKnownScaleModel, LaplaceKnownScaleModel\n",
    "from InsufficientGibbs.Distribution import Normal"
   ]
  },
  {
   "cell_type": "code",
   "execution_count": 2,
   "metadata": {},
   "outputs": [],
   "source": [
    "def log_ratio_normal_laplace(X,mu):\n",
    "    N = len(X)\n",
    "    return -(N/2)*np.log(np.pi)+np.sqrt(2)*np.sum(np.abs(X-mu))-np.sum((X-mu)**2)/2"
   ]
  },
  {
   "cell_type": "code",
   "execution_count": 3,
   "metadata": {},
   "outputs": [],
   "source": [
    "from scipy.optimize import fixed_point\n",
    "from scipy.special import logsumexp\n",
    "\n",
    "def func_r_paper(r,l1,l2,lstar):\n",
    "    return np.sum(np.exp(l2-lstar)/(np.exp(l2-lstar)+r))/np.sum(1/(np.exp(l1-lstar)+r))\n",
    "\n",
    "\n",
    "def BF_paper(l1,l2):\n",
    "    lstar = np.median(l1)\n",
    "    r = fixed_point(func_r_paper,np.exp(-lstar),args=(l1,l2,lstar),maxiter=10000)\n",
    "    BF = r*np.exp(lstar)\n",
    "    return BF\n",
    "\n",
    "\n",
    "def func_logBF_paper(logBF,l1,l2):\n",
    "    num_j = np.array([logsumexp([0,logBF-l2[j]]) for j in range(len(l2))])\n",
    "    den_i = np.array([logsumexp([l1[i],logBF]) for i in range(len(l1))])\n",
    "    num = logsumexp(-num_j)\n",
    "    den = logsumexp(-den_i)\n",
    "    return num-den\n",
    "\n",
    "def logBF_paper(l1,l2):\n",
    "    logBF = fixed_point(func_logBF_paper,1,args=(l1,l2),maxiter=10000)\n",
    "    return logBF\n",
    "\n",
    "def func_BF_dumb(BF,l1,l2):\n",
    "    num = np.sum(np.exp(l2)/(np.exp(l2)+BF))\n",
    "    den = np.sum(1/(np.exp(l1)+BF))\n",
    "    return num/den\n",
    "def BF_dumb(l1,l2):\n",
    "    BF = fixed_point(func_BF_dumb,1,args=(l1,l2),maxiter=10000)\n",
    "    return BF"
   ]
  },
  {
   "cell_type": "code",
   "execution_count": 4,
   "metadata": {},
   "outputs": [],
   "source": [
    "def Comparison(N,T):\n",
    "    X_norm = np.random.normal(0,1,N)\n",
    "    X_laplace = np.random.laplace(0,1/np.sqrt(2),N)\n",
    "    Bridge = []\n",
    "    for X in [X_norm,X_laplace]:\n",
    "        med, MAD = np.median(X),median_abs_deviation(X)\n",
    "        MCMC_norm = NormalKnownScaleModel(Normal(0,2)).Gibbs_med_MAD(T//2,N,med,MAD,List_X = True,verbose=False)\n",
    "        MCMC_laplace = LaplaceKnownScaleModel(Normal(0,2)).Gibbs_med_MAD(T//2,N,med,MAD,List_X = True,verbose=False)\n",
    "        X_Normal,X_Laplace = np.array(MCMC_norm[\"X\"][1:]),np.array(MCMC_laplace[\"X\"][1:])\n",
    "        mu_Normal, mu_Laplace= np.array(MCMC_norm[\"chains\"][\"loc\"]),np.array(MCMC_laplace[\"chains\"][\"loc\"])\n",
    "        \n",
    "        l1 = [log_ratio_normal_laplace(X,mu) for X,mu in zip(X_Normal,mu_Normal)]\n",
    "        l2 = [log_ratio_normal_laplace(X,mu) for X,mu in zip(X_Laplace,mu_Laplace)]\n",
    "        \n",
    "        BF_bridge = BF_paper(l1,l2)\n",
    "\n",
    "        Bridge.append(BF_bridge)\n",
    "    return Bridge\n",
    "    "
   ]
  },
  {
   "cell_type": "code",
   "execution_count": 5,
   "metadata": {},
   "outputs": [
    {
     "name": "stdout",
     "output_type": "stream",
     "text": [
      "N = 10\n"
     ]
    },
    {
     "name": "stderr",
     "output_type": "stream",
     "text": [
      "  0%|          | 0/100 [00:00<?, ?it/s]"
     ]
    },
    {
     "name": "stderr",
     "output_type": "stream",
     "text": [
      "100%|██████████| 100/100 [1:02:32<00:00, 37.52s/it]\n"
     ]
    },
    {
     "name": "stdout",
     "output_type": "stream",
     "text": [
      "N = 100\n"
     ]
    },
    {
     "name": "stderr",
     "output_type": "stream",
     "text": [
      "100%|██████████| 100/100 [1:07:08<00:00, 40.28s/it]\n"
     ]
    },
    {
     "name": "stdout",
     "output_type": "stream",
     "text": [
      "N = 1000\n"
     ]
    },
    {
     "name": "stderr",
     "output_type": "stream",
     "text": [
      "100%|██████████| 100/100 [1:09:48<00:00, 41.88s/it]\n"
     ]
    }
   ],
   "source": [
    "N_list = [10,100,1000]\n",
    "T = 10000\n",
    "\n",
    "n_iter = 100\n",
    "\n",
    "Normal_Bridge_N = []\n",
    "Laplace_Bridge_N = []\n",
    "\n",
    "for N in N_list:\n",
    "    print(\"N = {}\".format(N))\n",
    "    res = [Comparison(N,T) for _ in tqdm(range(n_iter))]\n",
    "    res = np.array(res)\n",
    "    \n",
    "    Normal_Bridge_N.append(res[:,0])\n",
    "    Laplace_Bridge_N.append(res[:,1])"
   ]
  },
  {
   "cell_type": "markdown",
   "metadata": {},
   "source": [
    "# Figure"
   ]
  },
  {
   "cell_type": "code",
   "execution_count": 21,
   "metadata": {},
   "outputs": [
    {
     "data": {
      "image/png": "[encoded data removed]",
      "text/plain": [
       "<Figure size 504x504 with 1 Axes>"
      ]
     },
     "metadata": {
      "needs_background": "light"
     },
     "output_type": "display_data"
    },
    {
     "data": {
      "image/png": "[encoded data removed]",
      "text/plain": [
       "<Figure size 504x504 with 1 Axes>"
      ]
     },
     "metadata": {
      "needs_background": "light"
     },
     "output_type": "display_data"
    },
    {
     "data": {
      "image/png": "[encoded data removed]",
      "text/plain": [
       "<Figure size 504x504 with 1 Axes>"
      ]
     },
     "metadata": {
      "needs_background": "light"
     },
     "output_type": "display_data"
    }
   ],
   "source": [
    "\n",
    "c1 = \"black\"\n",
    "c2 = \"lightgrey\"\n",
    "c3 = \"darkgrey\"\n",
    "w = 0.5\n",
    "for i,(bridge_norm, bridge_lp) in enumerate(zip(Normal_Bridge_N,Laplace_Bridge_N)):\n",
    "    f = plt.figure(figsize=(7, 7))\n",
    "    bplot=  plt.boxplot([bridge_norm/(1+bridge_norm), bridge_lp/(1+bridge_lp)], labels=[\"Gauss\", \"Laplace\"], \n",
    "                        widths=w, patch_artist=True, showfliers=True,\n",
    "                        whiskerprops=dict(color=\"black\", linewidth=1.5, linestyle=(0, (5, 10))),\n",
    "                        medianprops=dict(color=\"black\", linewidth=1.5), \n",
    "                        capprops=dict(color=\"black\", linewidth=1.5,));\n",
    "    for patch, color in zip(bplot['boxes'], [\"lightgrey\", \"grey\"]):\n",
    "        patch.set_facecolor(color)\n",
    "\n",
    "    plt.ylabel(\"$p(\\mathcal{M}_1|T_0)$\", fontsize=15)\n",
    "    plt.xticks(fontsize=15)\n",
    "    plt.ylim(-.1, 1.1)\n",
    "    plt.yticks([0,.2,.4,.6,.8,1], fontsize=12)\n",
    "    plt.savefig(\"Fig6{}.eps\".format(['a','b','c'][i]), format = \"eps\", bbox_inches=\"tight\")\n",
    "    plt.savefig(\"Fig6{}.pdf\".format(['a','b','c'][i]), format = \"pdf\", bbox_inches=\"tight\")\n",
    "    plt.show()\n"
   ]
  }
 ],
 "metadata": {
  "kernelspec": {
   "display_name": "tf2",
   "language": "python",
   "name": "python3"
  },
  "language_info": {
   "codemirror_mode": {
    "name": "ipython",
    "version": 3
   },
   "file_extension": ".py",
   "mimetype": "text/x-python",
   "name": "python",
   "nbconvert_exporter": "python",
   "pygments_lexer": "ipython3",
   "version": "3.7.13"
  }
 },
 "nbformat": 4,
 "nbformat_minor": 2
}
