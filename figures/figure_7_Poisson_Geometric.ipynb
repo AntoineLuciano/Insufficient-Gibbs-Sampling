{
 "cells": [
  {
   "cell_type": "code",
   "execution_count": 1,
   "metadata": {},
   "outputs": [],
   "source": [
    "from scipy.stats import nbinom,poisson,beta,expon,gamma,betaprime,uniform, cauchy, norm\n",
    "\n",
    "import numpy as np\n",
    "import matplotlib.pyplot as plt\n",
    "import seaborn as sns\n",
    "from tqdm import tqdm\n",
    "from scipy.integrate import quad\n",
    "from scipy.optimize import fixed_point\n",
    "from scipy.special import gammaln,logsumexp\n",
    "%load_ext autoreload\n",
    "%autoreload 2\n",
    "%load_ext line_profiler"
   ]
  },
  {
   "cell_type": "markdown",
   "metadata": {},
   "source": [
    "## Theoric"
   ]
  },
  {
   "cell_type": "code",
   "execution_count": 2,
   "metadata": {},
   "outputs": [],
   "source": [
    "def logBF_theo_y(y):\n",
    "    N = len(y)\n",
    "    S = np.sum(y)\n",
    "    return gammaln(N+S+2)-(S+1)*np.log(N+1)-np.sum(gammaln(y+1))-gammaln(N+1)\n",
    "\n",
    "def logBF_theo_S(S,N):\n",
    "    return (S-1)*np.log(N)+np.log(N+S)+np.log(N+S+1)-(S+1)*np.log(N+1)"
   ]
  },
  {
   "cell_type": "markdown",
   "metadata": {},
   "source": [
    "## Bridge"
   ]
  },
  {
   "cell_type": "code",
   "execution_count": 3,
   "metadata": {},
   "outputs": [],
   "source": [
    "\n",
    "from scipy.optimize import fixed_point\n",
    "from scipy.special import logsumexp\n",
    "def func_logBF_logsumexp(logBF,lratio_num,lratio_den):\n",
    "    num_j = np.array([logsumexp([0,logBF+lratio_num[j]]) for j in range(len(lratio_num))])\n",
    "    den_i = np.array([logsumexp([lratio_den[i],logBF]) for i in range(len(lratio_den))])\n",
    "    num = logsumexp(-num_j)\n",
    "    den = logsumexp(-den_i)\n",
    "    return num-den\n",
    "\n",
    "def logBF_logsumexp_fixedpoint(lratio_num,lratio_den):\n",
    "    return fixed_point(func_logBF_logsumexp,0,args=(lratio_num,lratio_den))"
   ]
  },
  {
   "cell_type": "code",
   "execution_count": 4,
   "metadata": {},
   "outputs": [],
   "source": [
    "def func_r_paper(r,l1,l2,lstar):\n",
    "    return np.sum(np.exp(l2-lstar)/(np.exp(l2-lstar)+r))/np.sum(1/(np.exp(l1-lstar)+r))\n",
    "\n",
    "\n",
    "def BF_paper(l1,l2,method = \"del2\"):\n",
    "    lstar = np.median(l1)\n",
    "    r = fixed_point(func_r_paper,np.exp(-lstar),args=(l1,l2,lstar),maxiter=100,method=method)\n",
    "    BF = r*np.exp(lstar)\n",
    "    return BF\n",
    "\n",
    "def func_logBF_paper(logBF,l1,l2):\n",
    "    num_j = np.array([logsumexp([0,logBF-l2[j]]) for j in range(len(l2))])\n",
    "    den_i = np.array([logsumexp([l1[i],logBF]) for i in range(len(l1))])\n",
    "    num = logsumexp(-num_j)\n",
    "    den = logsumexp(-den_i)\n",
    "    return num-den\n",
    "\n",
    "def logBF_paper(l1,l2,method = \"del2\"):\n",
    "    logBF = fixed_point(func_logBF_paper,1,args=(l1,l2),maxiter=100,method=method)\n",
    "    return logBF\n",
    "\n",
    "def func_BF_dumb(BF,l1,l2):\n",
    "    num = np.sum(np.exp(l2)/(np.exp(l2)+BF))\n",
    "    den = np.sum(1/(np.exp(l1)+BF))\n",
    "    print(\"Numerator = {} Denominator = {} BF = {}\".format(num,den,num/den))\n",
    "    return num/den\n",
    "\n",
    "def BF_dumb(l1,l2,method = \"del2\"):\n",
    "    BF = fixed_point(func_BF_dumb,4,args=(l1,l2),maxiter=100,method=method)\n",
    "    print(\"FIN\\nNumerator = {}, Denominator = {} BF = {}\".format(np.sum(np.exp(l2)/(np.exp(l2)+BF)),np.sum(1/(np.exp(l1)+BF)),BF))\n",
    "    return BF"
   ]
  },
  {
   "cell_type": "code",
   "execution_count": 5,
   "metadata": {},
   "outputs": [],
   "source": [
    "def logratio_pois_nb(mu,y):\n",
    "    S,N = np.sum(y),len(y)\n",
    "    return -mu*(N+1)+(N+S+2)*np.log(1+mu)-np.sum(gammaln(y+1))"
   ]
  },
  {
   "cell_type": "code",
   "execution_count": 6,
   "metadata": {},
   "outputs": [],
   "source": [
    "from scipy.stats import multinomial\n",
    "def sample_X_poiss_given_S(S,N,T):\n",
    "    return multinomial.rvs(n=S, p=[1/N]*N,size=T)\n",
    "    \n",
    "def sample_nbinom(S,N):\n",
    "    index = np.random.choice(N+S-1,N-1, replace=False)\n",
    "    vect = np.append(np.sort(index),N+S-1)\n",
    "    vect = np.append(-1,vect)\n",
    "    return vect[1:]-vect[:-1]-1\n",
    "\n",
    "def sample_X_nbinom_given_S(S,N,T):\n",
    "    return np.array([sample_nbinom(S,N) for _ in range(T)]) \n"
   ]
  },
  {
   "cell_type": "code",
   "execution_count": 7,
   "metadata": {},
   "outputs": [],
   "source": [
    "def post_p_nbinom_unif(S,N,size):\n",
    "    return beta(1+N,S+1).rvs(size)\n",
    "\n",
    "def post_nbinom_unif(S,N,size):\n",
    "    return betaprime(S+1,N+1).rvs(size)\n",
    "\n",
    "def post_pois_exp(S,N,size):\n",
    "    return gamma(S+1,scale=1/(N+1)).rvs(size)"
   ]
  },
  {
   "cell_type": "code",
   "execution_count": 8,
   "metadata": {},
   "outputs": [],
   "source": [
    "def func_BF(args):\n",
    "    np.random.seed()\n",
    "    i,S,N,T = args\n",
    "    X_poiss_S = sample_X_poiss_given_S(S,N,T)\n",
    "    X_nb_S = sample_X_nbinom_given_S(S,N,T)\n",
    "    mu_poiss = post_pois_exp(S,N,T)\n",
    "    mu_nb = post_nbinom_unif(S,N,T)\n",
    "    l1 = np.array([logratio_pois_nb(mu,X) for mu,X in zip(mu_poiss,X_poiss_S)])\n",
    "    l2 = np.array([logratio_pois_nb(mu,X) for mu,X in zip(mu_nb,X_nb_S)])\n",
    "\n",
    "    Bridge = BF_paper(l1,l2)\n",
    "    return Bridge"
   ]
  },
  {
   "cell_type": "code",
   "execution_count": 9,
   "metadata": {},
   "outputs": [
    {
     "data": {
      "text/plain": [
       "array([  0,  20,  40,  60,  80, 100, 120, 140, 160, 180, 200])"
      ]
     },
     "execution_count": 9,
     "metadata": {},
     "output_type": "execute_result"
    }
   ],
   "source": [
    "N =50\n",
    "S_list = np.linspace(0,200,11).astype(int)\n",
    "S_list"
   ]
  },
  {
   "cell_type": "code",
   "execution_count": 10,
   "metadata": {},
   "outputs": [
    {
     "name": "stdout",
     "output_type": "stream",
     "text": [
      "S = 0\n"
     ]
    },
    {
     "name": "stderr",
     "output_type": "stream",
     "text": [
      "  0%|          | 0/100 [00:00<?, ?it/s]"
     ]
    },
    {
     "name": "stderr",
     "output_type": "stream",
     "text": [
      "100%|██████████| 100/100 [08:30<00:00,  5.10s/it]\n"
     ]
    },
    {
     "name": "stdout",
     "output_type": "stream",
     "text": [
      "S = 20\n"
     ]
    },
    {
     "name": "stderr",
     "output_type": "stream",
     "text": [
      "100%|██████████| 100/100 [08:48<00:00,  5.28s/it]\n"
     ]
    },
    {
     "name": "stdout",
     "output_type": "stream",
     "text": [
      "S = 40\n"
     ]
    },
    {
     "name": "stderr",
     "output_type": "stream",
     "text": [
      "100%|██████████| 100/100 [09:15<00:00,  5.55s/it]\n"
     ]
    },
    {
     "name": "stdout",
     "output_type": "stream",
     "text": [
      "S = 60\n"
     ]
    },
    {
     "name": "stderr",
     "output_type": "stream",
     "text": [
      "100%|██████████| 100/100 [09:16<00:00,  5.56s/it]\n"
     ]
    },
    {
     "name": "stdout",
     "output_type": "stream",
     "text": [
      "S = 80\n"
     ]
    },
    {
     "name": "stderr",
     "output_type": "stream",
     "text": [
      "100%|██████████| 100/100 [09:24<00:00,  5.65s/it]\n"
     ]
    },
    {
     "name": "stdout",
     "output_type": "stream",
     "text": [
      "S = 100\n"
     ]
    },
    {
     "name": "stderr",
     "output_type": "stream",
     "text": [
      "100%|██████████| 100/100 [09:35<00:00,  5.75s/it]\n"
     ]
    },
    {
     "name": "stdout",
     "output_type": "stream",
     "text": [
      "S = 120\n"
     ]
    },
    {
     "name": "stderr",
     "output_type": "stream",
     "text": [
      "100%|██████████| 100/100 [09:30<00:00,  5.71s/it]\n"
     ]
    },
    {
     "name": "stdout",
     "output_type": "stream",
     "text": [
      "S = 140\n"
     ]
    },
    {
     "name": "stderr",
     "output_type": "stream",
     "text": [
      "100%|██████████| 100/100 [09:35<00:00,  5.75s/it]\n"
     ]
    },
    {
     "name": "stdout",
     "output_type": "stream",
     "text": [
      "S = 160\n"
     ]
    },
    {
     "name": "stderr",
     "output_type": "stream",
     "text": [
      "100%|██████████| 100/100 [09:39<00:00,  5.80s/it]\n"
     ]
    },
    {
     "name": "stdout",
     "output_type": "stream",
     "text": [
      "S = 180\n"
     ]
    },
    {
     "name": "stderr",
     "output_type": "stream",
     "text": [
      "100%|██████████| 100/100 [10:02<00:00,  6.03s/it]\n"
     ]
    },
    {
     "name": "stdout",
     "output_type": "stream",
     "text": [
      "S = 200\n"
     ]
    },
    {
     "name": "stderr",
     "output_type": "stream",
     "text": [
      "100%|██████████| 100/100 [10:07<00:00,  6.08s/it]\n"
     ]
    }
   ],
   "source": [
    "N = 50 \n",
    "S_list = np.linspace(0,200,11).astype(int)\n",
    "T = 100000\n",
    "n_iter = 100\n",
    "Theo_list, Bridge_list = [],[]\n",
    "for S in S_list:\n",
    "    print(\"S = {}\".format(S))\n",
    "    Bridge_S =[]\n",
    "    lorgBridge_S = []\n",
    "    Theo = np.exp(logBF_theo_S(S,N))\n",
    "    for _ in tqdm(range(n_iter)):\n",
    "        Bridge = func_BF((_,S,N,T))\n",
    "        Bridge_S.append(Bridge)\n",
    "    Theo_list.append(Theo)\n",
    "    Bridge_list.append(Bridge_S)\n"
   ]
  },
  {
   "cell_type": "code",
   "execution_count": 24,
   "metadata": {},
   "outputs": [
    {
     "name": "stdout",
     "output_type": "stream",
     "text": [
      "Requirement already satisfied: pillow in /Users/antoineluciano/opt/anaconda3/envs/tf2/lib/python3.7/site-packages (9.2.0)\n",
      "Note: you may need to restart the kernel to use updated packages.\n"
     ]
    }
   ],
   "source": [
    "pip install pillow"
   ]
  },
  {
   "cell_type": "code",
   "execution_count": 44,
   "metadata": {},
   "outputs": [
    {
     "data": {
      "image/png": "[encoded data removed]",
      "text/plain": [
       "<Figure size 1440x720 with 1 Axes>"
      ]
     },
     "metadata": {
      "needs_background": "light"
     },
     "output_type": "display_data"
    }
   ],
   "source": [
    "c1 = \"black\"\n",
    "c2 = \"lightgrey\"\n",
    "N = 50\n",
    "plt.figure(figsize=(20, 10))\n",
    "lw=2.2\n",
    "alpha=.6\n",
    "\n",
    "S_theo = np.linspace(0,210,100)\n",
    "BF_theo = [np.exp(logBF_theo_S(S,N)) for S in S_theo]\n",
    "plt.plot(S_theo, BF_theo, color=\"red\", linestyle='--', label='Theoretical value',alpha=1, linewidth=lw)\n",
    "\n",
    "\n",
    "plt.boxplot(list((Bridge_list)), positions=S_list, widths=N/5, patch_artist=True, showfliers=False, \n",
    "            boxprops=dict(facecolor=c2, edgecolor=c1, linewidth=lw, alpha=alpha), \n",
    "            whiskerprops=dict(color=c1, linewidth=lw,alpha=alpha), \n",
    "            medianprops=dict(color=c1, linewidth=lw,alpha=alpha), \n",
    "            capprops=dict(color=c1, linewidth=lw,alpha=alpha))\n",
    "\n",
    "\n",
    "\n",
    "plt.xlabel('S', fontsize=20)\n",
    "\n",
    "plt.ylabel('$BF_{12}^{T}(S)$', fontsize=20)\n",
    "plt.xlim(-6, 206)\n",
    "plt.yticks(fontsize=12)\n",
    "plt.xticks(fontsize=12)\n",
    "\n",
    "\n",
    "\n",
    "plt.savefig(\"Fig7.png\", format = \"png\", bbox_inches='tight', dpi= 500)\n",
    "plt.savefig(\"Fig7.pdf\", format = \"pdf\", bbox_inches='tight', dpi= 500)\n",
    "plt.show()\n"
   ]
  }
 ],
 "metadata": {
  "kernelspec": {
   "display_name": "tf2",
   "language": "python",
   "name": "python3"
  },
  "language_info": {
   "codemirror_mode": {
    "name": "ipython",
    "version": 3
   },
   "file_extension": ".py",
   "mimetype": "text/x-python",
   "name": "python",
   "nbconvert_exporter": "python",
   "pygments_lexer": "ipython3",
   "version": "3.7.13"
  }
 },
 "nbformat": 4,
 "nbformat_minor": 2
}
