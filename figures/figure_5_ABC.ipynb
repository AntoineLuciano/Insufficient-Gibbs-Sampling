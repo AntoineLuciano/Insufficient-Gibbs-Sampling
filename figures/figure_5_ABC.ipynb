{
 "cells": [
  {
   "cell_type": "code",
   "execution_count": 2,
   "metadata": {},
   "outputs": [],
   "source": [
    "from Distribution import Normal\n",
    "\n",
    "import numpy as np\n",
    "import scipy\n",
    "from scipy.stats import cauchy,median_abs_deviation\n",
    "import seaborn as sns\n",
    "import matplotlib.pyplot as plt\n",
    "from tqdm import tqdm\n",
    "import time\n",
    "import pandas as pd\n",
    "%load_ext autoreload\n",
    "%autoreload 2"
   ]
  },
  {
   "cell_type": "code",
   "execution_count": 3,
   "metadata": {},
   "outputs": [],
   "source": [
    "from Distribution import Normal, Gamma\n",
    "from Model import CauchyModel"
   ]
  },
  {
   "cell_type": "code",
   "execution_count": 4,
   "metadata": {},
   "outputs": [
    {
     "name": "stderr",
     "output_type": "stream",
     "text": [
      "  0%|          | 7/100000 [00:00<24:14, 68.77it/s]"
     ]
    },
    {
     "name": "stderr",
     "output_type": "stream",
     "text": [
      "100%|██████████| 100000/100000 [08:30<00:00, 195.73it/s]\n"
     ]
    },
    {
     "name": "stdout",
     "output_type": "stream",
     "text": [
      "Acceptation rates MH : loc = 59.22% scale = 59.05% \n"
     ]
    }
   ],
   "source": [
    "T=100000\n",
    "t0_gibbs=time.time()\n",
    "N=1001\n",
    "true_x_0,true_gamma=-2,3\n",
    "X=cauchy(loc=true_x_0,scale=true_gamma).rvs(size=N)\n",
    "med,MAD=-2,3\n",
    "\n",
    "loc = Normal(0,3,\"$x_0$\")\n",
    "scale = Gamma(2,2,\"$\\gamma$\")\n",
    "\n",
    "Gibbs = CauchyModel(loc,scale).Gibbs_med_MAD(T,N,med,MAD,{\"loc\":.2,\"scale\":.2})\n",
    "t_gibbs=time.time()-t0_gibbs"
   ]
  },
  {
   "cell_type": "code",
   "execution_count": 5,
   "metadata": {},
   "outputs": [],
   "source": [
    "def ABC_iter(index,par):\n",
    "    par_prior,t0,t_gibbs=par\n",
    "    np.random.seed()\n",
    "    N=1001\n",
    "    if time.time()-t0<t_gibbs:\n",
    "        x_0=scipy.stats.norm(loc=par_prior[0],scale=par_prior[1]).rvs(1)[0]\n",
    "        gamma=np.random.gamma(shape=par_prior[2],scale=par_prior[3])\n",
    "        y=scipy.stats.cauchy.rvs(loc=x_0,scale=gamma,size=N)\n",
    "        med_sim,MAD_sim=np.median(y),median_abs_deviation(y)\n",
    "        \n",
    "        return [x_0,gamma,med_sim,MAD_sim]\n",
    "    return [None,None,None,None]"
   ]
  },
  {
   "cell_type": "code",
   "execution_count": 6,
   "metadata": {},
   "outputs": [
    {
     "name": "stdout",
     "output_type": "stream",
     "text": [
      "0 NA values were dropped\n"
     ]
    },
    {
     "data": {
      "text/html": [
       "<div>\n",
       "<style scoped>\n",
       "    .dataframe tbody tr th:only-of-type {\n",
       "        vertical-align: middle;\n",
       "    }\n",
       "\n",
       "    .dataframe tbody tr th {\n",
       "        vertical-align: top;\n",
       "    }\n",
       "\n",
       "    .dataframe thead th {\n",
       "        text-align: right;\n",
       "    }\n",
       "</style>\n",
       "<table border=\"1\" class=\"dataframe\">\n",
       "  <thead>\n",
       "    <tr style=\"text-align: right;\">\n",
       "      <th></th>\n",
       "      <th>x_0</th>\n",
       "      <th>gamma</th>\n",
       "      <th>med</th>\n",
       "      <th>MAD</th>\n",
       "      <th>Dist_norm</th>\n",
       "    </tr>\n",
       "  </thead>\n",
       "  <tbody>\n",
       "    <tr>\n",
       "      <th>582845</th>\n",
       "      <td>-1.826292</td>\n",
       "      <td>3.097722</td>\n",
       "      <td>-1.997597</td>\n",
       "      <td>2.998358</td>\n",
       "      <td>9.728895e-07</td>\n",
       "    </tr>\n",
       "    <tr>\n",
       "      <th>387548</th>\n",
       "      <td>-2.144201</td>\n",
       "      <td>2.787197</td>\n",
       "      <td>-2.001637</td>\n",
       "      <td>2.997151</td>\n",
       "      <td>1.302372e-06</td>\n",
       "    </tr>\n",
       "    <tr>\n",
       "      <th>491693</th>\n",
       "      <td>-2.155725</td>\n",
       "      <td>3.335364</td>\n",
       "      <td>-2.000258</td>\n",
       "      <td>2.993489</td>\n",
       "      <td>5.261307e-06</td>\n",
       "    </tr>\n",
       "    <tr>\n",
       "      <th>768033</th>\n",
       "      <td>-1.923556</td>\n",
       "      <td>2.992260</td>\n",
       "      <td>-1.999364</td>\n",
       "      <td>3.007105</td>\n",
       "      <td>6.301256e-06</td>\n",
       "    </tr>\n",
       "    <tr>\n",
       "      <th>985056</th>\n",
       "      <td>-2.141760</td>\n",
       "      <td>2.892574</td>\n",
       "      <td>-2.006041</td>\n",
       "      <td>2.995637</td>\n",
       "      <td>6.396538e-06</td>\n",
       "    </tr>\n",
       "  </tbody>\n",
       "</table>\n",
       "</div>"
      ],
      "text/plain": [
       "             x_0     gamma       med       MAD     Dist_norm\n",
       "582845 -1.826292  3.097722 -1.997597  2.998358  9.728895e-07\n",
       "387548 -2.144201  2.787197 -2.001637  2.997151  1.302372e-06\n",
       "491693 -2.155725  3.335364 -2.000258  2.993489  5.261307e-06\n",
       "768033 -1.923556  2.992260 -1.999364  3.007105  6.301256e-06\n",
       "985056 -2.141760  2.892574 -2.006041  2.995637  6.396538e-06"
      ]
     },
     "execution_count": 6,
     "metadata": {},
     "output_type": "execute_result"
    }
   ],
   "source": [
    "from multiprocessing import Pool,cpu_count\n",
    "from functools import partial\n",
    "\n",
    "\n",
    "\n",
    "processes = cpu_count() # we performed our experiments on a machine with 8 cores\n",
    "t0_abc=time.time()\n",
    "par_prior=[0,3,2,2]\n",
    "with Pool(processes) as pool:\n",
    "    processed = pool.map(partial(ABC_iter, par=(par_prior,t0_abc,t_gibbs)), range(1000000))\n",
    "abc=pd.DataFrame(np.array(processed).T,index=[\"x_0\",\"gamma\",\"med\",\"MAD\"]).T\n",
    "\n",
    "shape1=abc.shape[0]\n",
    "abc=abc.dropna()\n",
    "print(\"{} NA values were dropped\".format(shape1-abc.shape[0]))\n",
    "abc[\"Dist_norm\"]=((abc[\"med\"]-med)/np.std(abc[\"med\"]))**2+((abc[\"MAD\"]-MAD)/np.std(abc[\"MAD\"]))**2\n",
    "abc.sort_values(by=\"Dist_norm\",inplace=True)\n",
    "abc.head()"
   ]
  },
  {
   "cell_type": "code",
   "execution_count": 10,
   "metadata": {},
   "outputs": [
    {
     "data": {
      "text/plain": [
       "'/Users/antoineluciano/Documents/Recherche/Insufficient-Gibbs-Sampling/src/InsufficientGibbs'"
      ]
     },
     "execution_count": 10,
     "metadata": {},
     "output_type": "execute_result"
    }
   ],
   "source": [
    "import os \n",
    "os.getcwd()"
   ]
  },
  {
   "cell_type": "code",
   "execution_count": 14,
   "metadata": {},
   "outputs": [
    {
     "name": "stdout",
     "output_type": "stream",
     "text": [
      "ABC epsilon = 0.21668817582559663\n"
     ]
    },
    {
     "data": {
      "image/png": "[encoded data removed]",
      "text/plain": [
       "<Figure size 1440x504 with 2 Axes>"
      ]
     },
     "metadata": {
      "needs_background": "light"
     },
     "output_type": "display_data"
    }
   ],
   "source": [
    "T=100000\n",
    "epsilon=abc[\"Dist_norm\"].iloc[T]\n",
    "print(\"ABC epsilon =\",epsilon)\n",
    "\n",
    "f,ax=plt.subplots(1,2,figsize=(20,7))\n",
    "\n",
    "sns.kdeplot(abc[\"x_0\"].iloc[:T],label=\"ABC\",ax=ax[0],fill=True,alpha=0.5,lw=3)\n",
    "sns.kdeplot(Gibbs[\"chains\"][\"loc\"],label=\"Gibbs\",ax=ax[0],fill=True,alpha=0.5,lw=3)\n",
    "\n",
    "x=np.linspace(np.min(abc[\"x_0\"].iloc[:T]),np.max(abc[\"x_0\"].iloc[:T]),1000)\n",
    "ax[0].axvline(x=true_x_0,color=\"black\",label=\"True value\",linestyle=\"--\")\n",
    "ax[0].set_xlabel(\"$x_0$\",fontsize=15)\n",
    "ax[0].set_xlim([true_x_0-true_gamma,true_x_0+true_gamma])\n",
    "ax[0].set_ylabel(\"Density\",fontsize=15)\n",
    "sns.kdeplot(abc[\"gamma\"].iloc[:T],label=\"ABC\",ax=ax[1],fill=True,alpha=0.5,lw=3)\n",
    "sns.kdeplot(Gibbs[\"chains\"][\"scale\"],label=\"Gibbs\",ax=ax[1],fill=True,alpha=0.5,lw=3)\n",
    "\n",
    "x=np.linspace(np.min(abc[\"gamma\"].iloc[:T]),np.max(abc[\"gamma\"].iloc[:T]),1000)\n",
    "ax[1].axvline(x=true_gamma,color=\"black\",label=\"True value\",linestyle=\"--\")\n",
    "ax[1].set_xlabel(\"$\\gamma$\",fontsize=15)\n",
    "ax[1].set_ylabel(\"\",fontsize=15)\n",
    "\n",
    "plt.savefig(\"Fig5.png\", format = \"png\", bbox_inches='tight', dpi=500)\n",
    "plt.savefig(\"Fig5.pdf\", format = \"pdf\", bbox_inches='tight', dpi=500)\n",
    "#plt.legend()"
   ]
  }
 ],
 "metadata": {
  "kernelspec": {
   "display_name": "tf2",
   "language": "python",
   "name": "python3"
  },
  "language_info": {
   "codemirror_mode": {
    "name": "ipython",
    "version": 3
   },
   "file_extension": ".py",
   "mimetype": "text/x-python",
   "name": "python",
   "nbconvert_exporter": "python",
   "pygments_lexer": "ipython3",
   "version": "3.7.13"
  },
  "orig_nbformat": 4
 },
 "nbformat": 4,
 "nbformat_minor": 2
}
