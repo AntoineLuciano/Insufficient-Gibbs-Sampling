{
 "cells": [
  {
   "cell_type": "code",
   "execution_count": 2,
   "metadata": {},
   "outputs": [],
   "source": [
    "from MAD import *\n",
    "import numpy as np\n",
    "import scipy\n",
    "import seaborn as sns\n",
    "import matplotlib.pyplot as plt\n",
    "from tqdm import tqdm\n",
    "import time\n",
    "import pandas as pd"
   ]
  },
  {
   "cell_type": "code",
   "execution_count": 3,
   "metadata": {},
   "outputs": [],
   "source": [
    "def ABC_iter(par):\n",
    "    np.random.seed()\n",
    "    N=1001\n",
    "    med,MAD=-2,3\n",
    "    x_0=np.random.normal(loc=0,scale=3)\n",
    "    gamma=np.random.gamma(shape=2,scale=2)\n",
    "    y=scipy.stats.cauchy.rvs(loc=x_0,scale=gamma,size=N)\n",
    "    D=np.linalg.norm(medMAD(y)-np.array([med,MAD]))\n",
    "    return [x_0,gamma,D]"
   ]
  },
  {
   "cell_type": "code",
   "execution_count": 4,
   "metadata": {},
   "outputs": [],
   "source": [
    "def ABC(med,MAD,T,N,tps_max):\n",
    "    debut=time.time()\n",
    "    Theta=[]\n",
    "    Dist=[]\n",
    "    while time.time()-debut<tps_max:\n",
    "        x_0=np.random.normal(loc=0,scale=1)\n",
    "        gamma=np.random.gamma(shape=1,scale=1)\n",
    "        y=scipy.stats.cauchy.rvs(loc=x_0,scale=gamma,size=N)\n",
    "        D=np.linalg.norm(medMAD(y)-np.array([med,MAD]))\n",
    "        Theta.append([x_0,gamma])\n",
    "        Dist.append(D)\n",
    "    print(len(Dist))\n",
    "    return Theta,Dist"
   ]
  },
  {
   "cell_type": "code",
   "execution_count": 11,
   "metadata": {},
   "outputs": [],
   "source": [
    "from multiprocessing import Pool\n",
    "\n",
    "\n",
    "# Pick the amount of processes that works best for you\n",
    "processes = 8\n",
    "\n",
    "with Pool(processes) as pool:\n",
    "    processed = pool.map(ABC_iter, range(10000000))"
   ]
  },
  {
   "cell_type": "code",
   "execution_count": 10,
   "metadata": {},
   "outputs": [
    {
     "name": "stderr",
     "output_type": "stream",
     "text": [
      "100%|██████████| 1000000/1000000 [07:34<00:00, 2201.24it/s]\n"
     ]
    },
    {
     "name": "stdout",
     "output_type": "stream",
     "text": [
      "Acceptation rate of loc = 31.33% and of scale = 31.41%\n"
     ]
    }
   ],
   "source": [
    "T=1000000\n",
    "N=1001\n",
    "med,MAD=-2,3\n",
    "Gibbs=Gibbs_med_MAD(T,N,med,MAD,1,\"cauchy\",par_prior=[0,3,2,2],std_prop1=0.5,std_prop2=0.5,verbose=True)"
   ]
  },
  {
   "cell_type": "code",
   "execution_count": 7,
   "metadata": {},
   "outputs": [
    {
     "data": {
      "text/html": [
       "<div>\n",
       "<style scoped>\n",
       "    .dataframe tbody tr th:only-of-type {\n",
       "        vertical-align: middle;\n",
       "    }\n",
       "\n",
       "    .dataframe tbody tr th {\n",
       "        vertical-align: top;\n",
       "    }\n",
       "\n",
       "    .dataframe thead th {\n",
       "        text-align: right;\n",
       "    }\n",
       "</style>\n",
       "<table border=\"1\" class=\"dataframe\">\n",
       "  <thead>\n",
       "    <tr style=\"text-align: right;\">\n",
       "      <th></th>\n",
       "      <th>x_0</th>\n",
       "      <th>gamma</th>\n",
       "      <th>Dist</th>\n",
       "    </tr>\n",
       "  </thead>\n",
       "  <tbody>\n",
       "    <tr>\n",
       "      <th>618322</th>\n",
       "      <td>-1.976988</td>\n",
       "      <td>3.111861</td>\n",
       "      <td>0.006616</td>\n",
       "    </tr>\n",
       "    <tr>\n",
       "      <th>849708</th>\n",
       "      <td>-2.071223</td>\n",
       "      <td>3.124984</td>\n",
       "      <td>0.009110</td>\n",
       "    </tr>\n",
       "    <tr>\n",
       "      <th>151935</th>\n",
       "      <td>-2.044118</td>\n",
       "      <td>3.175343</td>\n",
       "      <td>0.009737</td>\n",
       "    </tr>\n",
       "    <tr>\n",
       "      <th>609687</th>\n",
       "      <td>-1.948099</td>\n",
       "      <td>2.948575</td>\n",
       "      <td>0.011800</td>\n",
       "    </tr>\n",
       "    <tr>\n",
       "      <th>609197</th>\n",
       "      <td>-2.117922</td>\n",
       "      <td>3.073466</td>\n",
       "      <td>0.011826</td>\n",
       "    </tr>\n",
       "  </tbody>\n",
       "</table>\n",
       "</div>"
      ],
      "text/plain": [
       "             x_0     gamma      Dist\n",
       "618322 -1.976988  3.111861  0.006616\n",
       "849708 -2.071223  3.124984  0.009110\n",
       "151935 -2.044118  3.175343  0.009737\n",
       "609687 -1.948099  2.948575  0.011800\n",
       "609197 -2.117922  3.073466  0.011826"
      ]
     },
     "execution_count": 7,
     "metadata": {},
     "output_type": "execute_result"
    }
   ],
   "source": [
    "abc=pd.DataFrame(np.array(processed).T,index=[\"x_0\",\"gamma\",\"Dist\"]).T\n",
    "abc.sort_values(by=\"Dist\",inplace=True)\n",
    "abc.head()"
   ]
  },
  {
   "cell_type": "code",
   "execution_count": 59,
   "metadata": {},
   "outputs": [
    {
     "data": {
      "text/plain": [
       "(100001, 100001)"
      ]
     },
     "execution_count": 59,
     "metadata": {},
     "output_type": "execute_result"
    }
   ],
   "source": [
    "len(abc[\"x_0\"].iloc[:T]),len(Gibbs[\"chains\"][0])"
   ]
  },
  {
   "cell_type": "code",
   "execution_count": 9,
   "metadata": {},
   "outputs": [
    {
     "name": "stdout",
     "output_type": "stream",
     "text": [
      "epsilon = 1.3653289883197017\n"
     ]
    },
    {
     "data": {
      "text/plain": [
       "<matplotlib.legend.Legend at 0x7fd9dc587990>"
      ]
     },
     "execution_count": 9,
     "metadata": {},
     "output_type": "execute_result"
    },
    {
     "data": {
      "image/png": "[encoded data removed]",
      "text/plain": [
       "<Figure size 1440x504 with 2 Axes>"
      ]
     },
     "metadata": {
      "needs_background": "light"
     },
     "output_type": "display_data"
    }
   ],
   "source": [
    "T=100001\n",
    "eps=abc[\"Dist\"].iloc[T]\n",
    "print(\"epsilon =\",eps)\n",
    "f,ax=plt.subplots(1,2,figsize=(20,7))\n",
    "\n",
    "sns.kdeplot(abc[\"x_0\"].iloc[:T],label=\"ABC\",ax=ax[0],fill=True,alpha=0.5)\n",
    "sns.kdeplot(Gibbs[\"chains\"][0],label=\"Gibbs\",ax=ax[0],fill=True,alpha=0.5)\n",
    "\n",
    "x=np.linspace(-4,0,1000)\n",
    "ax[0].plot(x,scipy.stats.norm.pdf(x,loc=0,scale=3),label=\"Prior\")\n",
    "ax[0].axvline(x=med,color=\"grey\",label=\"True value\")\n",
    "ax[0].set_xlabel(\"$x_0$\",fontsize=15)\n",
    "\n",
    "sns.kdeplot(abc[\"gamma\"].iloc[:T],label=\"ABC\",ax=ax[1],fill=True,alpha=0.5)\n",
    "sns.kdeplot(Gibbs[\"chains\"][1],label=\"Gibbs\",ax=ax[1],fill=True,alpha=0.5)\n",
    "x=np.linspace(0,6,1000)\n",
    "ax[1].plot(x,scipy.stats.gamma.pdf(x,a=2,scale=2),label=\"Prior\")\n",
    "ax[1].axvline(x=MAD,color=\"grey\",label=\"True value\")\n",
    "ax[1].set_xlabel(\"$\\gamma$\",fontsize=15)\n",
    "plt.legend()"
   ]
  }
 ],
 "metadata": {
  "kernelspec": {
   "display_name": "tf2",
   "language": "python",
   "name": "python3"
  },
  "language_info": {
   "codemirror_mode": {
    "name": "ipython",
    "version": 3
   },
   "file_extension": ".py",
   "mimetype": "text/x-python",
   "name": "python",
   "nbconvert_exporter": "python",
   "pygments_lexer": "ipython3",
   "version": "3.7.13"
  },
  "orig_nbformat": 4
 },
 "nbformat": 4,
 "nbformat_minor": 2
}
